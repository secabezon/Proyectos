{
  "cells": [
    {
      "cell_type": "markdown",
      "metadata": {
        "id": "view-in-github",
        "colab_type": "text"
      },
      "source": [
        "<a href=\"https://colab.research.google.com/github/secabezon/Proyectos/blob/main/ConsumoAPIAwsLambda.ipynb\" target=\"_parent\"><img src=\"https://colab.research.google.com/assets/colab-badge.svg\" alt=\"Open In Colab\"/></a>"
      ]
    },
    {
      "cell_type": "code",
      "source": [
        "print('Hola Mundo')"
      ],
      "metadata": {
        "colab": {
          "base_uri": "https://localhost:8080/"
        },
        "id": "jez3DtsTDAPB",
        "outputId": "b9706e73-9db7-4582-e415-c4c12f022efb"
      },
      "execution_count": null,
      "outputs": [
        {
          "output_type": "stream",
          "name": "stdout",
          "text": [
            "Hola Mundo\n"
          ]
        }
      ]
    },
    {
      "cell_type": "code",
      "source": [
        "!pip install requests"
      ],
      "metadata": {
        "colab": {
          "base_uri": "https://localhost:8080/"
        },
        "id": "db9QkwtGDNNw",
        "outputId": "a248bc39-2dcd-4015-a85c-b0137af02470"
      },
      "execution_count": null,
      "outputs": [
        {
          "output_type": "stream",
          "name": "stdout",
          "text": [
            "Requirement already satisfied: requests in /usr/local/lib/python3.10/dist-packages (2.31.0)\n",
            "Requirement already satisfied: charset-normalizer<4,>=2 in /usr/local/lib/python3.10/dist-packages (from requests) (3.3.2)\n",
            "Requirement already satisfied: idna<4,>=2.5 in /usr/local/lib/python3.10/dist-packages (from requests) (3.6)\n",
            "Requirement already satisfied: urllib3<3,>=1.21.1 in /usr/local/lib/python3.10/dist-packages (from requests) (2.0.7)\n",
            "Requirement already satisfied: certifi>=2017.4.17 in /usr/local/lib/python3.10/dist-packages (from requests) (2023.11.17)\n"
          ]
        }
      ]
    },
    {
      "cell_type": "markdown",
      "source": [
        "##Variables"
      ],
      "metadata": {
        "id": "5lsW8ZuGDI6W"
      }
    },
    {
      "cell_type": "code",
      "source": [
        "URLAPI='https://5l2xy62qodng3ywxbmavlmv2fi0smvdz.lambda-url.us-east-2.on.aws'\n",
        "APIPATH='/api/tools'"
      ],
      "metadata": {
        "id": "cfKAbm6TDWsA"
      },
      "execution_count": null,
      "outputs": []
    },
    {
      "cell_type": "markdown",
      "source": [
        "##GET CON QUERY STRING PARAMS"
      ],
      "metadata": {
        "id": "43vauXt9Dez9"
      }
    },
    {
      "cell_type": "code",
      "source": [
        "import requests"
      ],
      "metadata": {
        "id": "Z5sC_323DjQ5"
      },
      "execution_count": null,
      "outputs": []
    },
    {
      "cell_type": "code",
      "source": [
        "response = requests.get(f'{URLAPI}{APIPATH}/get_all', params={'category':'Cloud'})"
      ],
      "metadata": {
        "id": "kJiKf-7nDmFe"
      },
      "execution_count": null,
      "outputs": []
    },
    {
      "cell_type": "code",
      "source": [
        "tools=response.json()#datos de la api"
      ],
      "metadata": {
        "id": "HO2FpmOlDzPQ"
      },
      "execution_count": null,
      "outputs": []
    },
    {
      "cell_type": "code",
      "source": [
        "tools[0]"
      ],
      "metadata": {
        "id": "VCLbpMMZiQEW",
        "outputId": "84fe8732-6e60-453f-97f2-c3e2811fb23c",
        "colab": {
          "base_uri": "https://localhost:8080/"
        }
      },
      "execution_count": null,
      "outputs": [
        {
          "output_type": "execute_result",
          "data": {
            "text/plain": [
              "{'id': 'bigquery-cloud', 'name': 'Bigquery', 'category': 'Cloud'}"
            ]
          },
          "metadata": {},
          "execution_count": 21
        }
      ]
    },
    {
      "cell_type": "markdown",
      "source": [
        "##Metodo GET CON PATH PARAMS\n"
      ],
      "metadata": {
        "id": "KAKrJIzaEfEu"
      }
    },
    {
      "cell_type": "code",
      "source": [
        "response = requests.get(f'{URLAPI}{APIPATH}/bigquery-cloud')"
      ],
      "metadata": {
        "id": "xLydBRufElX-"
      },
      "execution_count": null,
      "outputs": []
    },
    {
      "cell_type": "code",
      "source": [
        "tools=response.json()"
      ],
      "metadata": {
        "id": "ODQD-IsBE2CC"
      },
      "execution_count": null,
      "outputs": []
    },
    {
      "cell_type": "code",
      "source": [
        "tools"
      ],
      "metadata": {
        "colab": {
          "base_uri": "https://localhost:8080/"
        },
        "id": "7xoQwnmfE4p3",
        "outputId": "00981150-2f03-424d-84b5-e371cb8ee531"
      },
      "execution_count": null,
      "outputs": [
        {
          "output_type": "execute_result",
          "data": {
            "text/plain": [
              "{'id': 'bigquery-cloud', 'name': 'Bigquery', 'category': 'Cloud'}"
            ]
          },
          "metadata": {},
          "execution_count": 24
        }
      ]
    },
    {
      "cell_type": "markdown",
      "source": [
        "##METODO POST"
      ],
      "metadata": {
        "id": "DI-H9h0qE99M"
      }
    },
    {
      "cell_type": "code",
      "source": [
        "tool_to_insert={\n",
        "    'id':'Google-Colab-cloud'\n",
        "    , 'name':'Google Colab'\n",
        "    , 'category':'cloud'\n",
        "}"
      ],
      "metadata": {
        "id": "J533NMMXFAyY"
      },
      "execution_count": null,
      "outputs": []
    },
    {
      "cell_type": "code",
      "source": [
        "response =requests.post(f'{URLAPI}{APIPATH}',json=tool_to_insert)"
      ],
      "metadata": {
        "id": "oH6fwS-FFQk8"
      },
      "execution_count": null,
      "outputs": []
    },
    {
      "cell_type": "code",
      "source": [
        "response.status_code"
      ],
      "metadata": {
        "colab": {
          "base_uri": "https://localhost:8080/"
        },
        "id": "rjf2WCWGFcj8",
        "outputId": "449046cd-9017-427b-bd50-18998b7f97e5"
      },
      "execution_count": null,
      "outputs": [
        {
          "output_type": "execute_result",
          "data": {
            "text/plain": [
              "201"
            ]
          },
          "metadata": {},
          "execution_count": 27
        }
      ]
    },
    {
      "cell_type": "code",
      "source": [
        "tool_created =response.json()"
      ],
      "metadata": {
        "id": "sBX5NZvZFnvs"
      },
      "execution_count": null,
      "outputs": []
    },
    {
      "cell_type": "code",
      "source": [
        "tool_created"
      ],
      "metadata": {
        "colab": {
          "base_uri": "https://localhost:8080/"
        },
        "id": "jrKu5FabFq5u",
        "outputId": "bbac9c37-0d21-4aff-e90b-c5db8df65107"
      },
      "execution_count": null,
      "outputs": [
        {
          "output_type": "execute_result",
          "data": {
            "text/plain": [
              "{'id': 'Google-Colab-cloud', 'name': 'Google Colab', 'category': 'cloud'}"
            ]
          },
          "metadata": {},
          "execution_count": 30
        }
      ]
    },
    {
      "cell_type": "markdown",
      "source": [
        "##METODO PUT"
      ],
      "metadata": {
        "id": "qXNr_btYGloy"
      }
    },
    {
      "cell_type": "code",
      "source": [
        "tool_to_update = {\n",
        "    'name':'Google Colab'\n",
        "    , 'category':'cloud'\n",
        "}"
      ],
      "metadata": {
        "id": "ES0wOnl3GnhT"
      },
      "execution_count": null,
      "outputs": []
    },
    {
      "cell_type": "code",
      "source": [
        "response = requests.put(f'{URLAPI}{APIPATH}/Google-Colab-cloud',json=tool_to_update)"
      ],
      "metadata": {
        "id": "K0T6-0H1G2Xp"
      },
      "execution_count": null,
      "outputs": []
    },
    {
      "cell_type": "code",
      "source": [
        "response.status_code"
      ],
      "metadata": {
        "colab": {
          "base_uri": "https://localhost:8080/"
        },
        "id": "JWjxwaV0HKmw",
        "outputId": "3f6bba81-e7af-4cfb-8a3a-7394e87713c8"
      },
      "execution_count": null,
      "outputs": [
        {
          "output_type": "execute_result",
          "data": {
            "text/plain": [
              "200"
            ]
          },
          "metadata": {},
          "execution_count": 46
        }
      ]
    },
    {
      "cell_type": "code",
      "source": [
        "respuesta=response.json()"
      ],
      "metadata": {
        "id": "uq7_r3oLHzbR"
      },
      "execution_count": null,
      "outputs": []
    },
    {
      "cell_type": "code",
      "source": [
        "respuesta"
      ],
      "metadata": {
        "id": "Vc1mzhAKjhQy",
        "outputId": "5366910e-1d1e-48c3-acf4-4d3ae9e5a423",
        "colab": {
          "base_uri": "https://localhost:8080/"
        }
      },
      "execution_count": null,
      "outputs": [
        {
          "output_type": "execute_result",
          "data": {
            "text/plain": [
              "True"
            ]
          },
          "metadata": {},
          "execution_count": 48
        }
      ]
    },
    {
      "cell_type": "markdown",
      "source": [
        "##METODO DELETE"
      ],
      "metadata": {
        "id": "XmTFkNYjIHSM"
      }
    },
    {
      "cell_type": "code",
      "source": [
        "response = requests.delete(f'{URLAPI}{APIPATH}/Google Colab-cloud')"
      ],
      "metadata": {
        "id": "PbXAv_HyII2g"
      },
      "execution_count": null,
      "outputs": []
    },
    {
      "cell_type": "code",
      "source": [
        "response.status_code"
      ],
      "metadata": {
        "colab": {
          "base_uri": "https://localhost:8080/"
        },
        "id": "PjQHcdWbIQ5j",
        "outputId": "bd44a6f6-5c3c-4900-bd55-d99572dac30e"
      },
      "execution_count": null,
      "outputs": [
        {
          "output_type": "execute_result",
          "data": {
            "text/plain": [
              "200"
            ]
          },
          "metadata": {},
          "execution_count": 50
        }
      ]
    },
    {
      "cell_type": "code",
      "source": [
        "response.json()"
      ],
      "metadata": {
        "colab": {
          "base_uri": "https://localhost:8080/"
        },
        "id": "R_g_7zLdISrw",
        "outputId": "e6f59a9d-7cba-4c35-beb1-371b144a2877"
      },
      "execution_count": null,
      "outputs": [
        {
          "output_type": "execute_result",
          "data": {
            "text/plain": [
              "{'id': 'Google Colab-cloud', 'name': 'Google Colab', 'category': 'cloud'}"
            ]
          },
          "metadata": {},
          "execution_count": 51
        }
      ]
    }
  ],
  "metadata": {
    "colab": {
      "toc_visible": true,
      "provenance": [],
      "include_colab_link": true
    },
    "kernelspec": {
      "display_name": "Python 3",
      "name": "python3"
    }
  },
  "nbformat": 4,
  "nbformat_minor": 0
}